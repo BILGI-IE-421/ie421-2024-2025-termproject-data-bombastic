{
 "cells": [
  {
   "cell_type": "code",
   "execution_count": null,
   "id": "20b84973-0147-4037-883e-d123114d48c6",
   "metadata": {},
   "outputs": [],
   "source": []
  }
 ],
 "metadata": {
  "kernelspec": {
   "display_name": "",
   "name": ""
  },
  "language_info": {
   "name": ""
  }
 },
 "nbformat": 4,
 "nbformat_minor": 5
}
